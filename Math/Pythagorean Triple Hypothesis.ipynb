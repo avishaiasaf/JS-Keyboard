{
 "cells": [
  {
   "cell_type": "code",
   "execution_count": 8,
   "metadata": {},
   "outputs": [],
   "source": [
    "import numpy as np\n",
    "import pandas as pd\n",
    "import math"
   ]
  },
  {
   "cell_type": "code",
   "execution_count": 78,
   "metadata": {},
   "outputs": [],
   "source": [
    "def calculate_triple(num):\n",
    "    \"\"\"\n",
    "    calculate the Pythagorean triple a, b and c which sums to num\n",
    "    \"\"\"\n",
    "    i=0\n",
    "    for m in range(1, int(math.sqrt(num))):\n",
    "        n = ((num/2)/m) - m\n",
    "        i = i + 1\n",
    "        if n.is_integer() and m>n and n>0:\n",
    "            a = m**2 - n**2\n",
    "            b = 2*m*n\n",
    "            c = m**2 + n**2\n",
    "            if a+b+c==num:\n",
    "                return [a, b, c, i, m/math.sqrt(num)]\n",
    "    return False"
   ]
  },
  {
   "cell_type": "code",
   "execution_count": 79,
   "metadata": {},
   "outputs": [
    {
     "data": {
      "text/plain": [
       "[375.0, 200.0, 425.0, 20, 0.6324555320336759]"
      ]
     },
     "execution_count": 79,
     "metadata": {},
     "output_type": "execute_result"
    }
   ],
   "source": [
    "calculate_triple(1000)"
   ]
  },
  {
   "cell_type": "code",
   "execution_count": 72,
   "metadata": {},
   "outputs": [],
   "source": [
    "dataList = []\n",
    "for i in range(1, 1000000):\n",
    "    current = calculate_triple(i)\n",
    "    if(current):\n",
    "        dataList.append(calculate_triple(i))\n",
    "#dataList"
   ]
  },
  {
   "cell_type": "code",
   "execution_count": 73,
   "metadata": {},
   "outputs": [
    {
     "data": {
      "text/plain": [
       "(0.7071067811865476, 0.5002501876563868)"
      ]
     },
     "execution_count": 73,
     "metadata": {},
     "output_type": "execute_result"
    }
   ],
   "source": [
    "df = pd.DataFrame(dataList, columns=['a','b','c','i','m/sqrt(num)'])\n",
    "#df\n",
    "(df['m/sqrt(num)'].max(), df['m/sqrt(num)'].min())"
   ]
  },
  {
   "cell_type": "code",
   "execution_count": 74,
   "metadata": {},
   "outputs": [
    {
     "data": {
      "text/plain": [
       "(128187, 5)"
      ]
     },
     "execution_count": 74,
     "metadata": {},
     "output_type": "execute_result"
    }
   ],
   "source": [
    "df.shape"
   ]
  },
  {
   "cell_type": "code",
   "execution_count": 76,
   "metadata": {},
   "outputs": [],
   "source": [
    "df.to_csv('./Pythagorean Triples Up to One Million.csv')"
   ]
  },
  {
   "cell_type": "code",
   "execution_count": 77,
   "metadata": {},
   "outputs": [
    {
     "data": {
      "text/plain": [
       "707"
      ]
     },
     "execution_count": 77,
     "metadata": {},
     "output_type": "execute_result"
    }
   ],
   "source": [
    "df['i'].max()"
   ]
  },
  {
   "cell_type": "code",
   "execution_count": null,
   "metadata": {},
   "outputs": [],
   "source": []
  }
 ],
 "metadata": {
  "kernelspec": {
   "display_name": "Python 3",
   "language": "python",
   "name": "python3"
  },
  "language_info": {
   "codemirror_mode": {
    "name": "ipython",
    "version": 3
   },
   "file_extension": ".py",
   "mimetype": "text/x-python",
   "name": "python",
   "nbconvert_exporter": "python",
   "pygments_lexer": "ipython3",
   "version": "3.8.5"
  }
 },
 "nbformat": 4,
 "nbformat_minor": 4
}
